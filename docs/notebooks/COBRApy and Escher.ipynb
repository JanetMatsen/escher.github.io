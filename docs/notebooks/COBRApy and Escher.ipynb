{
 "metadata": {
  "name": "",
  "signature": "sha256:dd3e44aed5adef632deb71923293631b5762d53f045609f2c0bdbffe0b055ff4"
 },
 "nbformat": 3,
 "nbformat_minor": 0,
 "worksheets": [
  {
   "cells": [
    {
     "cell_type": "code",
     "collapsed": false,
     "input": [
      "import escher\n",
      "import escher.urls\n",
      "import cobra\n",
      "import cobra.test\n",
      "import json\n",
      "import os\n",
      "from IPython.display import HTML"
     ],
     "language": "python",
     "metadata": {},
     "outputs": [],
     "prompt_number": 1
    },
    {
     "cell_type": "code",
     "collapsed": false,
     "input": [
      "d = escher.urls.root_directory\n",
      "print 'Escher directory: %s' % d "
     ],
     "language": "python",
     "metadata": {},
     "outputs": [
      {
       "output_type": "stream",
       "stream": "stdout",
       "text": [
        "Escher directory: /Users/zaking/repos/escher\n"
       ]
      }
     ],
     "prompt_number": 2
    },
    {
     "cell_type": "markdown",
     "metadata": {},
     "source": [
      "### Embed an Escher map in an IPython notebook"
     ]
    },
    {
     "cell_type": "code",
     "collapsed": false,
     "input": [
      "escher.list_available_maps()"
     ],
     "language": "python",
     "metadata": {},
     "outputs": []
    },
    {
     "cell_type": "code",
     "collapsed": false,
     "input": [
      "b = escher.Builder(map_name='iJO1366.Central metabolism')\n",
      "b.display_in_notebook()"
     ],
     "language": "python",
     "metadata": {},
     "outputs": []
    },
    {
     "cell_type": "markdown",
     "metadata": {},
     "source": [
      "### Plot FBA solutions in Escher"
     ]
    },
    {
     "cell_type": "code",
     "collapsed": false,
     "input": [
      "model = cobra.io.load_json_model(cobra.test.ecoli_json)\n",
      "solution = model.optimize()\n",
      "print 'Growth rate: %.2f' % solution.f"
     ],
     "language": "python",
     "metadata": {},
     "outputs": [
      {
       "output_type": "stream",
       "stream": "stdout",
       "text": [
        "Growth rate: 0.98\n"
       ]
      }
     ],
     "prompt_number": 3
    },
    {
     "cell_type": "code",
     "collapsed": false,
     "input": [
      "b = escher.Builder(map_name='iJO1366.Central metabolism',\n",
      "                   reaction_data=solution.x_dict,\n",
      "                   # color and size according to the absolute value\n",
      "                   reaction_styles=['color', 'size', 'abs', 'text'],\n",
      "                   # change the default colors\n",
      "                   reaction_scale=[{'type': 'min', 'color': '#cccccc', 'size': 4},\n",
      "                                   {'type': 'mean', 'color': '#0000dd', 'size': 20},\n",
      "                                   {'type': 'max', 'color': '#ff0000', 'size': 40}],\n",
      "                   # only show the primary metabolites\n",
      "                   hide_secondary_metabolites=True)\n",
      "b.display_in_notebook()"
     ],
     "language": "python",
     "metadata": {},
     "outputs": []
    },
    {
     "cell_type": "heading",
     "level": 3,
     "metadata": {},
     "source": [
      "Use a COBRA model from the IPython Notebook to edit maps"
     ]
    },
    {
     "cell_type": "code",
     "collapsed": false,
     "input": [
      "model_modified = model.copy()\n",
      "# for example, delete a reaction\n",
      "model_modified.reactions.GAPD.delete()"
     ],
     "language": "python",
     "metadata": {},
     "outputs": [],
     "prompt_number": 4
    },
    {
     "cell_type": "markdown",
     "metadata": {},
     "source": [
      "# TODO this bug should be fixed in latest version"
     ]
    },
    {
     "cell_type": "code",
     "collapsed": false,
     "input": [
      "# pass the model to a new builder\n",
      "b = escher.Builder(map_name='iJO1366.Central metabolism',\n",
      "                   model=model_modified,\n",
      "                   # in the map, highlight all reactions that are missing from the model\n",
      "                   highlight_missing=True)\n",
      "b.display_in_notebook()"
     ],
     "language": "python",
     "metadata": {},
     "outputs": []
    },
    {
     "cell_type": "code",
     "collapsed": false,
     "input": [
      "# open the Builder in a new tab to edit this map with your modified model\n",
      "b.display_in_browser()"
     ],
     "language": "python",
     "metadata": {},
     "outputs": []
    }
   ],
   "metadata": {}
  }
 ]
}